{
  "nbformat": 4,
  "nbformat_minor": 0,
  "metadata": {
    "colab": {
      "provenance": []
    },
    "kernelspec": {
      "name": "python3",
      "display_name": "Python 3"
    },
    "language_info": {
      "name": "python"
    }
  },
  "cells": [
    {
      "cell_type": "markdown",
      "source": [
        "##Introduction To NLP\n",
        "***bold text***"
      ],
      "metadata": {
        "id": "tB_EVQMhDaeL"
      }
    },
    {
      "cell_type": "markdown",
      "source": [
        "Natural language processing is a subfield of linguistics, computer science, and artificial intelligence concerned with the interactions between computers and human language, in particular how to program computers to process and analyze large amounts of natural language data."
      ],
      "metadata": {
        "id": "mJPfHbkkDd6O"
      }
    },
    {
      "cell_type": "markdown",
      "source": [
        "##Why NLP Useful?\n",
        "***bold text***"
      ],
      "metadata": {
        "id": "v8uCFQrIDmde"
      }
    },
    {
      "cell_type": "markdown",
      "source": [
        "NLP enables computers to understand natural language as humans do. Whether the language is spoken or written, natural language processing uses artificial intelligence to take real-world input, process it, and make sense of it in a way a computer can understand.\n"
      ],
      "metadata": {
        "id": "Nm00KuSlDwb3"
      }
    },
    {
      "cell_type": "markdown",
      "source": [
        "##NLP in the Real World/Core applications:"
      ],
      "metadata": {
        "id": "W0CR66RQD1qB"
      }
    },
    {
      "cell_type": "markdown",
      "source": [
        "Email platforms, such as Gmail, Outlook, etc., use NLP extensively to provide a range of product features, such as spam classification, priority inbox, calendar event extraction, auto-complete, etc.\n",
        "\n",
        "\n",
        "Voice-based assistants, such as Apple Siri, Google Assistant, Microsoft Cortana, and Amazon Alexa rely on a range of NLP techniques to interact with the user, understand user commands, and respond accordingly.\n",
        "\n",
        "\n",
        "Modern search engines, such as Google and Bing, which are the cornerstone of today’s internet, use NLP heavily for various subtasks, such as query understanding, query expansion, question answering, information retrieval, and ranking and grouping of the results so on.\n",
        "\n",
        "\n",
        "Machine translation services, such as Google Translate, Bing Microsoft Translator, and Amazon Translate are increasingly used in today’s world to solve a wide range of scenarios and business use cases.\n",
        "\n",
        "\n",
        "Chatbots\n",
        "\n",
        "\n",
        "\n"
      ],
      "metadata": {
        "id": "48JeCvgOD9N0"
      }
    },
    {
      "cell_type": "markdown",
      "source": [
        "##Various NLP Tasks\n"
      ],
      "metadata": {
        "id": "ewcHBwYxENmg"
      }
    },
    {
      "cell_type": "markdown",
      "source": [
        "Language modeling\n",
        "\n",
        "This is the task of predicting what the next word in a sentence will be based on the history of previous words. The goal of this task is to learn the probability of a sequence of words appearing in a given language. Language modeling is useful for building solutions for a wide variety of problems, such as speech recognition, optical character recognition, handwriting recognition, machine translation, and spelling correction.\n"
      ],
      "metadata": {
        "id": "QVeza_WfEaPk"
      }
    },
    {
      "cell_type": "markdown",
      "source": [
        "Text classification\n",
        "\n",
        "This is the task of bucketing the text into a known set of categories based on its content. Text classification is by far the most popular task in NLP and is used in a variety of tools, from email spam identification to sentiment analysis.\n"
      ],
      "metadata": {
        "id": "Q1M9A7F5EeCi"
      }
    },
    {
      "cell_type": "markdown",
      "source": [
        "Information extraction\n",
        "\n",
        "As the name indicates, this is the task of extracting relevant information from text, such as calendar events from emails or the names of people mentioned in a social media post.\n",
        "\n"
      ],
      "metadata": {
        "id": "EIOU_rZIEikN"
      }
    },
    {
      "cell_type": "markdown",
      "source": [
        "Information retrieval\n",
        "\n",
        "This is the task of finding documents relevant to a user query from a large collection. Applications like Google Search are well-known use cases of information retrieval.\n",
        "\n"
      ],
      "metadata": {
        "id": "CTyr-OXyEnzb"
      }
    },
    {
      "cell_type": "markdown",
      "source": [
        "Conversational agent\n",
        "\n",
        "This is the task of building dialogue systems that can converse in human languages. Alexa, Siri, etc., are some common applications of this task.\n"
      ],
      "metadata": {
        "id": "PKKrjunfEtcq"
      }
    },
    {
      "cell_type": "markdown",
      "source": [
        "Text summarization\n",
        "\n",
        "This task aims to create short summaries of longer documents while retaining the core content and preserving the overall meaning of the text.\n"
      ],
      "metadata": {
        "id": "ia1-lxCcEupw"
      }
    },
    {
      "cell_type": "markdown",
      "source": [
        "Question answering\n",
        "\n",
        "This is the task of building a system that can automatically answer questions posed in natural language.\n"
      ],
      "metadata": {
        "id": "jxY20nc2EzL3"
      }
    },
    {
      "cell_type": "markdown",
      "source": [
        "Machine translation\n",
        "\n",
        "This is the task of converting a piece of text from one language to another. Tools like Google Translate are common applications of this task.\n"
      ],
      "metadata": {
        "id": "77phvW7ME2r1"
      }
    },
    {
      "cell_type": "markdown",
      "source": [
        "Topic modeling\n",
        "\n",
        "This is the task of uncovering the topical structure of a large collection of documents. Topic modeling is a common text-mining tool and is used in a wide range of domains, from literature to bioinformatics.\n"
      ],
      "metadata": {
        "id": "D0bI5ouEE6Jr"
      }
    },
    {
      "cell_type": "markdown",
      "source": [
        "##What Is Language?\n"
      ],
      "metadata": {
        "id": "YIkq-cT5E8uy"
      }
    },
    {
      "cell_type": "markdown",
      "source": [
        "Language is a structured system of communication that involves complex combinations of its constituent components, such as characters, words, sentences, etc.\n",
        "We can think of human language as composed of four major building blocks: phonemes, morphemes and lexemes, syntax, and context."
      ],
      "metadata": {
        "id": "itd8X9XRFISF"
      }
    },
    {
      "cell_type": "markdown",
      "source": [
        "##Building Blocks of Language\n"
      ],
      "metadata": {
        "id": "gJxWWDP1FPps"
      }
    },
    {
      "cell_type": "markdown",
      "source": [
        "Phonemes\n",
        "\n",
        "Phonemes are the smallest units of sound in a language. They may not have any meaning by themselves but can induce meanings when uttered in combination with other phonemes.\n"
      ],
      "metadata": {
        "id": "pG3BLpTqFQsn"
      }
    },
    {
      "cell_type": "markdown",
      "source": [
        "Morphemes and lexemes\n",
        "\n",
        "A morpheme is the smallest unit of language that has a meaning. It is formed by a combination of phonemes. Not all morphemes are words, but all prefixes and suffixes are morphemes\n"
      ],
      "metadata": {
        "id": "LEr9g99GFV2n"
      }
    },
    {
      "cell_type": "markdown",
      "source": [
        "Syntax\n",
        "\n",
        "Syntax is a set of rules to construct grammatically correct sentences out of words and phrases in a language. Syntactic structure in linguistics is represented in many different ways. A common approach to representing sentences is a parse tree. In this representation, N stands for noun, V for verb, and P for preposition. Noun phrase is denoted by NP and verb phrase by VP.\n"
      ],
      "metadata": {
        "id": "0xkTYGckFZ56"
      }
    },
    {
      "cell_type": "markdown",
      "source": [
        "Context\n",
        "\n",
        "Context is how various parts in a language come together to convey a particular meaning. Context includes long-term references, world knowledge, and common sense along with the literal meaning of words and phrases.\n",
        "\n",
        "Complex NLP tasks such as sarcasm detection, summarization, and topic modeling are some of tasks that use context heavily.\n"
      ],
      "metadata": {
        "id": "zoSj0VhGFf3P"
      }
    },
    {
      "cell_type": "markdown",
      "source": [
        "##Approaches to NLP"
      ],
      "metadata": {
        "id": "Waj_AQ1aFk0F"
      }
    },
    {
      "cell_type": "markdown",
      "source": [
        "The different approaches used to solve NLP problems commonly fall into three categories: heuristics, machine learning, and deep learning."
      ],
      "metadata": {
        "id": "6X32zfqXFrwo"
      }
    },
    {
      "cell_type": "markdown",
      "source": [
        "Heuristics-Based NLP\n",
        "\n",
        "Similar to other early AI systems, early attempts at designing NLP systems were based on building rules for the task at hand.\n",
        "Examples:\n",
        "Regular Expression\n",
        "Wordnet\n",
        "Open Mind Common Sense\n"
      ],
      "metadata": {
        "id": "-9X3EmJJFt9y"
      }
    },
    {
      "cell_type": "markdown",
      "source": [
        "Machine Learning for NLP\n",
        "\n",
        "Machine learning techniques are applied to textual data just as they’re used on other forms of data, such as images, speech, and structured data. Supervised machine learning techniques such as classification and regression methods are heavily used for various NLP tasks.\n",
        "Naive Bayes\n",
        "Support vector machine\n",
        "Hidden Markov Model\n"
      ],
      "metadata": {
        "id": "Vg_d0AV0FxAj"
      }
    },
    {
      "cell_type": "markdown",
      "source": [
        "Deep Learning for NLP\n",
        "\n",
        "Huge surge in using neural networks to deal with complex, unstructured data. Language is inherently complex and unstructured. herefore, we need models with better representation and learning capability to understand and solve language tasks. Here are a few popular deep neural network architectures that have become the status quo in NLP.\n",
        "Recurrent neural networks (RNN)\n",
        "Long short-term memory (LSTM)\n",
        "Convolutional neural networks (CNN)\n",
        "Transformers\n",
        "Autoencoders\n"
      ],
      "metadata": {
        "id": "tesP8wO8F0YK"
      }
    },
    {
      "cell_type": "markdown",
      "source": [
        "##Why Is NLP Challenging?\n"
      ],
      "metadata": {
        "id": "RxboqvidF5hl"
      }
    },
    {
      "cell_type": "markdown",
      "source": [
        "The ambiguity and creativity of human language are just two of the characteristics that make NLP a demanding area to work in."
      ],
      "metadata": {
        "id": "MHkOsfB7F6m6"
      }
    },
    {
      "cell_type": "markdown",
      "source": [
        "Ambiguity\n",
        "\n",
        "Ambiguity means uncertainty of meaning!\n"
      ],
      "metadata": {
        "id": "tI07LnSIF8qo"
      }
    },
    {
      "cell_type": "markdown",
      "source": [
        "Common knowledge\n",
        "\n",
        "A key aspect of any human language is “common knowledge.” It is the set of all facts that most humans are aware of.\n",
        "Example:\n",
        "consider two sentences: “man bit dog” and “dog bit man.”"
      ],
      "metadata": {
        "id": "q2SynGCvGBDo"
      }
    },
    {
      "cell_type": "markdown",
      "source": [
        "Creativity\n",
        "\n",
        "Language is not just rule driven; there is also a creative aspect to it. Various styles, dialects, genres, and variations are used in any language. Poems are a great example of creativity in language. Making machines understand creativity is a hard problem not just in NLP, but in AI in general.\n",
        "\n",
        "& Diversity: There are many languages\n"
      ],
      "metadata": {
        "id": "1k0YOsiwGC5V"
      }
    },
    {
      "cell_type": "markdown",
      "source": [
        "##What is NLP Pipeline?\n"
      ],
      "metadata": {
        "id": "GCI_MVlMGH1N"
      }
    },
    {
      "cell_type": "markdown",
      "source": [
        "Break the problem down into several sub-problems, then try to develop a step-by-step procedure to solve them.\n",
        " Since language processing is involved, we would also list all the forms of text processing needed at each step. This step-by-step processing of text is known as a pipeline.\n",
        "\n",
        "Data acquisition\n",
        "\n",
        "Text Preparation\n",
        "\n",
        "Text Cleanup\n",
        "\n",
        "Basic Preprocessing\n",
        "\n",
        "Advance Preprocessing\n",
        "\n",
        "Feature engineering\n",
        "\n",
        "Modeling\n",
        "\n",
        "Evaluation\n",
        "\n",
        "Deployment\n",
        "\n",
        "Monitoring & model updating\n"
      ],
      "metadata": {
        "id": "zQ3WwkFzGJOh"
      }
    },
    {
      "cell_type": "markdown",
      "source": [
        "It's not universal\n",
        "\n",
        "Deep Learning pipelines are slightly different\n",
        "\n",
        "Pipeline is non-linear\n"
      ],
      "metadata": {
        "id": "BNJF4BRkGXKd"
      }
    },
    {
      "cell_type": "markdown",
      "source": [],
      "metadata": {
        "id": "fhOhIQ8zGdVx"
      }
    }
  ]
}